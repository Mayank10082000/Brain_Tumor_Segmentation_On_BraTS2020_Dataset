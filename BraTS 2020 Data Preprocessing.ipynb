{
  "nbformat": 4,
  "nbformat_minor": 0,
  "metadata": {
    "colab": {
      "provenance": []
    },
    "kernelspec": {
      "name": "python3",
      "display_name": "Python 3"
    },
    "language_info": {
      "name": "python"
    }
  },
  "cells": [
    {
      "cell_type": "markdown",
      "source": [
        "# **Brain Tumor Segmentation - Data Preprocessing**\n",
        "\n"
      ],
      "metadata": {
        "id": "G0-2TDMR9NZR"
      }
    },
    {
      "cell_type": "markdown",
      "source": [
        "### Mounting google drive"
      ],
      "metadata": {
        "id": "RBj4hhEJ9nw2"
      }
    },
    {
      "cell_type": "code",
      "source": [
        "from google.colab import drive\n",
        "drive.mount('/content/drive')"
      ],
      "metadata": {
        "colab": {
          "base_uri": "https://localhost:8080/"
        },
        "id": "iTxZG2gbD66t",
        "outputId": "aa34c2f8-1932-4f05-a8f8-a4057a171345"
      },
      "execution_count": 1,
      "outputs": [
        {
          "output_type": "stream",
          "name": "stdout",
          "text": [
            "Mounted at /content/drive\n"
          ]
        }
      ]
    },
    {
      "cell_type": "markdown",
      "source": [
        "### Downloading required libraries"
      ],
      "metadata": {
        "id": "QKhH8xBJ9pz5"
      }
    },
    {
      "cell_type": "code",
      "execution_count": 2,
      "metadata": {
        "colab": {
          "base_uri": "https://localhost:8080/"
        },
        "id": "XaPfH-crDqvl",
        "outputId": "e37e73ac-934e-4ac6-b20c-78c7765e77eb"
      },
      "outputs": [
        {
          "output_type": "stream",
          "name": "stdout",
          "text": [
            "Requirement already satisfied: nibabel in /usr/local/lib/python3.10/dist-packages (4.0.2)\n",
            "Collecting nilearn\n",
            "  Downloading nilearn-0.10.4-py3-none-any.whl (10.4 MB)\n",
            "\u001b[2K     \u001b[90m━━━━━━━━━━━━━━━━━━━━━━━━━━━━━━━━━━━━━━━━\u001b[0m \u001b[32m10.4/10.4 MB\u001b[0m \u001b[31m16.3 MB/s\u001b[0m eta \u001b[36m0:00:00\u001b[0m\n",
            "\u001b[?25hCollecting opendatasets\n",
            "  Downloading opendatasets-0.1.22-py3-none-any.whl (15 kB)\n",
            "Collecting split-folders\n",
            "  Downloading split_folders-0.5.1-py3-none-any.whl (8.4 kB)\n",
            "Requirement already satisfied: numpy>=1.17 in /usr/local/lib/python3.10/dist-packages (from nibabel) (1.25.2)\n",
            "Requirement already satisfied: packaging>=17.0 in /usr/local/lib/python3.10/dist-packages (from nibabel) (24.0)\n",
            "Requirement already satisfied: setuptools in /usr/local/lib/python3.10/dist-packages (from nibabel) (67.7.2)\n",
            "Requirement already satisfied: joblib>=1.0.0 in /usr/local/lib/python3.10/dist-packages (from nilearn) (1.4.2)\n",
            "Requirement already satisfied: lxml in /usr/local/lib/python3.10/dist-packages (from nilearn) (4.9.4)\n",
            "Requirement already satisfied: pandas>=1.1.5 in /usr/local/lib/python3.10/dist-packages (from nilearn) (2.0.3)\n",
            "Requirement already satisfied: requests>=2.25.0 in /usr/local/lib/python3.10/dist-packages (from nilearn) (2.31.0)\n",
            "Requirement already satisfied: scikit-learn>=1.0.0 in /usr/local/lib/python3.10/dist-packages (from nilearn) (1.2.2)\n",
            "Requirement already satisfied: scipy>=1.8.0 in /usr/local/lib/python3.10/dist-packages (from nilearn) (1.11.4)\n",
            "Requirement already satisfied: tqdm in /usr/local/lib/python3.10/dist-packages (from opendatasets) (4.66.4)\n",
            "Requirement already satisfied: kaggle in /usr/local/lib/python3.10/dist-packages (from opendatasets) (1.6.12)\n",
            "Requirement already satisfied: click in /usr/local/lib/python3.10/dist-packages (from opendatasets) (8.1.7)\n",
            "Requirement already satisfied: python-dateutil>=2.8.2 in /usr/local/lib/python3.10/dist-packages (from pandas>=1.1.5->nilearn) (2.8.2)\n",
            "Requirement already satisfied: pytz>=2020.1 in /usr/local/lib/python3.10/dist-packages (from pandas>=1.1.5->nilearn) (2023.4)\n",
            "Requirement already satisfied: tzdata>=2022.1 in /usr/local/lib/python3.10/dist-packages (from pandas>=1.1.5->nilearn) (2024.1)\n",
            "Requirement already satisfied: charset-normalizer<4,>=2 in /usr/local/lib/python3.10/dist-packages (from requests>=2.25.0->nilearn) (3.3.2)\n",
            "Requirement already satisfied: idna<4,>=2.5 in /usr/local/lib/python3.10/dist-packages (from requests>=2.25.0->nilearn) (3.7)\n",
            "Requirement already satisfied: urllib3<3,>=1.21.1 in /usr/local/lib/python3.10/dist-packages (from requests>=2.25.0->nilearn) (2.0.7)\n",
            "Requirement already satisfied: certifi>=2017.4.17 in /usr/local/lib/python3.10/dist-packages (from requests>=2.25.0->nilearn) (2024.2.2)\n",
            "Requirement already satisfied: threadpoolctl>=2.0.0 in /usr/local/lib/python3.10/dist-packages (from scikit-learn>=1.0.0->nilearn) (3.5.0)\n",
            "Requirement already satisfied: six>=1.10 in /usr/local/lib/python3.10/dist-packages (from kaggle->opendatasets) (1.16.0)\n",
            "Requirement already satisfied: python-slugify in /usr/local/lib/python3.10/dist-packages (from kaggle->opendatasets) (8.0.4)\n",
            "Requirement already satisfied: bleach in /usr/local/lib/python3.10/dist-packages (from kaggle->opendatasets) (6.1.0)\n",
            "Requirement already satisfied: webencodings in /usr/local/lib/python3.10/dist-packages (from bleach->kaggle->opendatasets) (0.5.1)\n",
            "Requirement already satisfied: text-unidecode>=1.3 in /usr/local/lib/python3.10/dist-packages (from python-slugify->kaggle->opendatasets) (1.3)\n",
            "Installing collected packages: split-folders, opendatasets, nilearn\n",
            "Successfully installed nilearn-0.10.4 opendatasets-0.1.22 split-folders-0.5.1\n"
          ]
        }
      ],
      "source": [
        "!pip install nibabel nilearn opendatasets split-folders"
      ]
    },
    {
      "cell_type": "code",
      "source": [
        "%cd /content/"
      ],
      "metadata": {
        "colab": {
          "base_uri": "https://localhost:8080/"
        },
        "id": "QU45ld9vEosS",
        "outputId": "c92c4eeb-27f8-44c2-8b56-1ea2114e0040"
      },
      "execution_count": 3,
      "outputs": [
        {
          "output_type": "stream",
          "name": "stdout",
          "text": [
            "/content\n"
          ]
        }
      ]
    },
    {
      "cell_type": "markdown",
      "source": [
        "### Downloading dataset"
      ],
      "metadata": {
        "id": "IZjEGXaa9vz0"
      }
    },
    {
      "cell_type": "markdown",
      "source": [
        "{\"username\":\"arceus948\",\"key\":\"f135ef59afbd96b23576bfdd1d01d598\"}"
      ],
      "metadata": {
        "id": "nEnBxrcwFHIq"
      }
    },
    {
      "cell_type": "code",
      "source": [
        "import opendatasets as od\n",
        "import pandas\n",
        "\n",
        "od.download(\"https://www.kaggle.com/datasets/awsaf49/brats20-dataset-training-validation\")"
      ],
      "metadata": {
        "colab": {
          "base_uri": "https://localhost:8080/"
        },
        "id": "ML-09qi-EtiJ",
        "outputId": "150010b4-4161-45db-f697-705406288c14"
      },
      "execution_count": 4,
      "outputs": [
        {
          "output_type": "stream",
          "name": "stdout",
          "text": [
            "Please provide your Kaggle credentials to download this dataset. Learn more: http://bit.ly/kaggle-creds\n",
            "Your Kaggle username: arceus948\n",
            "Your Kaggle Key: ··········\n",
            "Dataset URL: https://www.kaggle.com/datasets/awsaf49/brats20-dataset-training-validation\n",
            "Downloading brats20-dataset-training-validation.zip to ./brats20-dataset-training-validation\n"
          ]
        },
        {
          "output_type": "stream",
          "name": "stderr",
          "text": [
            "100%|██████████| 4.16G/4.16G [00:41<00:00, 107MB/s]\n"
          ]
        },
        {
          "output_type": "stream",
          "name": "stdout",
          "text": [
            "\n"
          ]
        }
      ]
    },
    {
      "cell_type": "markdown",
      "source": [
        "### Importing required libraries"
      ],
      "metadata": {
        "id": "SwJ8bPqGUEjg"
      }
    },
    {
      "cell_type": "code",
      "source": [
        "import numpy as np\n",
        "import nibabel as nib\n",
        "import glob\n",
        "from tensorflow.keras.utils import to_categorical\n",
        "import matplotlib.pyplot as plt\n",
        "from tifffile import imsave\n",
        "import os\n",
        "from sklearn.preprocessing import MinMaxScaler\n",
        "import random\n",
        "import shutil\n",
        "import splitfolders"
      ],
      "metadata": {
        "id": "NkTNYC0iTyxI"
      },
      "execution_count": 5,
      "outputs": []
    },
    {
      "cell_type": "markdown",
      "source": [
        "## **PART - 1:**\n",
        "\n",
        "All BraTS multimodal scans are available as NIfTI files (.nii) -> commonly used medical imaging format to store brain imagin data obtained using MRI and describe different MRI settings\n",
        "\n",
        "1. T1: T1-weighted, native image, sagittal or axial 2D acquisitions, with 1–6 mm slice thickness.\n",
        "2. T1c: T1-weighted, contrast-enhanced (Gadolinium) image, with 3D acquisition and 1 mm isotropic voxel size for most patients.\n",
        "3. T2: T2-weighted image, axial 2D acquisition, with 2–6 mm slice thickness.\n",
        "4. FLAIR: T2-weighted FLAIR image, axial, coronal, or sagittal 2D acquisitions, 2–6 mm slice thickness.\n",
        "\n",
        "**Note: Segmented file name in Folder 355 has a weird name. Rename it to match others**"
      ],
      "metadata": {
        "id": "TvZOM70Nr9im"
      }
    },
    {
      "cell_type": "markdown",
      "source": [
        "### Renaming incorrect files"
      ],
      "metadata": {
        "id": "6o3tkEGNT0mk"
      }
    },
    {
      "cell_type": "code",
      "source": [
        "TRAIN_DATASET_PATH = '/content/brats20-dataset-training-validation/BraTS2020_TrainingData/MICCAI_BraTS2020_TrainingData/'"
      ],
      "metadata": {
        "id": "nVxa8qz4U9hS"
      },
      "execution_count": 6,
      "outputs": []
    },
    {
      "cell_type": "code",
      "source": [
        "# Define the path to the directory containing the patient subfolders\n",
        "base_path = TRAIN_DATASET_PATH\n",
        "\n",
        "# Define the specific patient folder and the incorrect file name\n",
        "patient_folder = 'BraTS20_Training_355'\n",
        "incorrect_file_name = 'W39_1998.09.19_Segm.nii'\n",
        "correct_file_name = 'BraTS20_Training_355_seg.nii'\n",
        "\n",
        "# Full path to the incorrect file\n",
        "incorrect_file_path = os.path.join(base_path, patient_folder, incorrect_file_name)\n",
        "\n",
        "# Full path to the correct file\n",
        "correct_file_path = os.path.join(base_path, patient_folder, correct_file_name)\n",
        "\n",
        "# Check if the incorrect file exists\n",
        "if os.path.exists(incorrect_file_path):\n",
        "    # Rename the file\n",
        "    os.rename(incorrect_file_path, correct_file_path)\n",
        "    print(f\"File renamed to: {correct_file_name}\")\n",
        "else:\n",
        "    print(f\"The file {incorrect_file_name} does not exist in the directory.\")"
      ],
      "metadata": {
        "colab": {
          "base_uri": "https://localhost:8080/"
        },
        "id": "FHlIp-fFPYeq",
        "outputId": "11ea029e-aac7-4a97-b2d5-18f3d5592da1"
      },
      "execution_count": 7,
      "outputs": [
        {
          "output_type": "stream",
          "name": "stdout",
          "text": [
            "File renamed to: BraTS20_Training_355_seg.nii\n"
          ]
        }
      ]
    },
    {
      "cell_type": "markdown",
      "source": [
        "### Remove T1 modality from each folder in train data and also delete the validation folder"
      ],
      "metadata": {
        "id": "im3-VlsCzwnP"
      }
    },
    {
      "cell_type": "code",
      "source": [
        "import os\n",
        "\n",
        "# Define the path to the 'train' directory\n",
        "train_dir = TRAIN_DATASET_PATH\n",
        "\n",
        "# Walk through the subdirectories in 'train'\n",
        "for root, dirs, files in os.walk(train_dir):\n",
        "    for file in files:\n",
        "        # Check if the file ends with 't1.nii.gz'\n",
        "        if file.endswith('t1.nii'):\n",
        "            # Construct the full file path\n",
        "            file_path = os.path.join(root, file)\n",
        "            # Delete the file\n",
        "            os.remove(file_path)\n",
        "print('Deleted all T1 modalities from train folder')\n",
        "\n",
        "# Define the path to the 'validation' directory\n",
        "validation_dir = '/content/brats20-dataset-training-validation/BraTS2020_ValidationData'\n",
        "\n",
        "# Remove the entire directory\n",
        "shutil.rmtree(validation_dir)\n",
        "print(f'Deleted the validation folder')"
      ],
      "metadata": {
        "colab": {
          "base_uri": "https://localhost:8080/"
        },
        "id": "5YBBh72v0Dbc",
        "outputId": "7e43cf20-1ac2-4677-d115-78073c0636f5"
      },
      "execution_count": 8,
      "outputs": [
        {
          "output_type": "stream",
          "name": "stdout",
          "text": [
            "Deleted all T1 modalities from train folder\n",
            "Deleted the validation folder\n"
          ]
        }
      ]
    },
    {
      "cell_type": "markdown",
      "source": [
        "### Compressing train folder files to save space"
      ],
      "metadata": {
        "id": "Ak6PK7FBloSZ"
      }
    },
    {
      "cell_type": "code",
      "source": [
        "# Define the path to the dataset\n",
        "base_path = TRAIN_DATASET_PATH  # Update this to your dataset path\n",
        "\n",
        "# Walk through the directory\n",
        "for root, dirs, files in os.walk(base_path):\n",
        "    for file in files:\n",
        "        # Check if the file is a '.nii' file\n",
        "        if file.endswith('.nii'):\n",
        "            file_path = os.path.join(root, file)\n",
        "            # Load the image file\n",
        "            image = nib.load(file_path)\n",
        "            # Define the new file name with '.nii.gz' extension\n",
        "            gz_file_path = file_path + '.gz'\n",
        "            # Save the file in compressed '.nii.gz' format\n",
        "            nib.save(image, gz_file_path)\n",
        "            # Remove the original '.nii' file\n",
        "            os.remove(file_path)\n",
        "            # print(f\"Converted and replaced {file} with {os.path.basename(gz_file_path)}\")\n",
        "\n",
        "print(\"Train Dataset Compression complete.\")"
      ],
      "metadata": {
        "colab": {
          "base_uri": "https://localhost:8080/"
        },
        "id": "4Wmuyy0Li80k",
        "outputId": "3d575f0b-b456-4366-ac13-f13d3100e365"
      },
      "execution_count": 9,
      "outputs": [
        {
          "output_type": "stream",
          "name": "stdout",
          "text": [
            "Train Dataset Compression complete.\n"
          ]
        }
      ]
    },
    {
      "cell_type": "markdown",
      "source": [
        "### Normalization and Datatype conversion\n"
      ],
      "metadata": {
        "id": "1Zv0a7oUYHp0"
      }
    },
    {
      "cell_type": "code",
      "source": [
        "test_image_flair=nib.load(TRAIN_DATASET_PATH+'/BraTS20_Training_355/BraTS20_Training_355_flair.nii.gz').get_fdata()\n",
        "print(test_image_flair.max())\n",
        "\n",
        "# Here our dataset is not normalized so we normalize it"
      ],
      "metadata": {
        "colab": {
          "base_uri": "https://localhost:8080/"
        },
        "id": "cj6gW7J5nl7N",
        "outputId": "0f14cdd5-1e7f-45fb-8f1a-011894c6e0d4"
      },
      "execution_count": 10,
      "outputs": [
        {
          "output_type": "stream",
          "name": "stdout",
          "text": [
            "1854.603271484375\n"
          ]
        }
      ]
    },
    {
      "cell_type": "code",
      "source": [
        "# Define the path to the dataset\n",
        "base_path = TRAIN_DATASET_PATH  # Make sure this is defined correctly\n",
        "\n",
        "# Initialize the scaler\n",
        "scaler = MinMaxScaler()\n",
        "\n",
        "# Get a list of all subfolders in the base path\n",
        "subfolders = [f.path for f in os.scandir(base_path) if f.is_dir()]\n",
        "\n",
        "# Iterate over the patient folders\n",
        "for patient_folder_path in subfolders:\n",
        "    patient_id = os.path.basename(patient_folder_path)\n",
        "\n",
        "    # Define the modalities\n",
        "    modalities = ['flair', 't1ce', 't2', 'seg']\n",
        "\n",
        "    # Process each modality\n",
        "    for modality in modalities:\n",
        "        file_name = f\"{patient_id}_{modality}.nii.gz\"  # Working with .nii.gz files\n",
        "        file_path = os.path.join(patient_folder_path, file_name)\n",
        "\n",
        "        # Check if the file exists before processing\n",
        "        if os.path.exists(file_path):\n",
        "            # Load the image data\n",
        "            image = nib.load(file_path)\n",
        "            image_data = image.get_fdata(dtype=np.float32)\n",
        "\n",
        "            # If it's not the segmentation mask, apply scaling\n",
        "            if modality != 'seg':\n",
        "                # Reshape, scale, and reshape back to original shape\n",
        "                image_data = scaler.fit_transform(image_data.reshape(-1, image_data.shape[-1])).reshape(image_data.shape)\n",
        "            else:\n",
        "                # For segmentation mask, convert to uint8 and reassign label values\n",
        "                image_data = image_data.astype(np.uint8)\n",
        "                image_data[image_data == 4] = 3  # Reassign mask values 4 to 3\n",
        "\n",
        "            # Save the processed data to a new .nii.gz file\n",
        "            nib.save(nib.Nifti1Image(image_data, image.affine), file_path)\n",
        "\n",
        "print(\"All patient folders have been processed and normalized.\")"
      ],
      "metadata": {
        "colab": {
          "base_uri": "https://localhost:8080/"
        },
        "id": "WdzDcfXTojb_",
        "outputId": "fd79649b-c80c-4f36-cf79-1b196f937134"
      },
      "execution_count": 11,
      "outputs": [
        {
          "output_type": "stream",
          "name": "stdout",
          "text": [
            "All patient folders have been processed and normalized.\n"
          ]
        }
      ]
    },
    {
      "cell_type": "code",
      "source": [
        "test_image_flair=nib.load(TRAIN_DATASET_PATH+'/BraTS20_Training_355/BraTS20_Training_355_flair.nii.gz').get_fdata()\n",
        "print(test_image_flair.max())\n",
        "\n",
        "test_image_t2=nib.load(TRAIN_DATASET_PATH+'/BraTS20_Training_355/BraTS20_Training_355_t2.nii.gz').get_fdata()\n",
        "print(test_image_t2.max())\n",
        "\n",
        "test_image_t1ce=nib.load(TRAIN_DATASET_PATH+'/BraTS20_Training_355/BraTS20_Training_355_t1ce.nii.gz').get_fdata()\n",
        "print(test_image_t1ce.max())\n",
        "\n",
        "test_image_seg=nib.load(TRAIN_DATASET_PATH+'/BraTS20_Training_355/BraTS20_Training_355_seg.nii.gz').get_fdata()\n",
        "print(test_image_seg.max())\n",
        "\n",
        "# Here our dataset is normalized"
      ],
      "metadata": {
        "id": "Wp7EiHbFHfXK",
        "outputId": "a83ec338-99dd-4be8-ae31-258c23ae34a7",
        "colab": {
          "base_uri": "https://localhost:8080/"
        }
      },
      "execution_count": 15,
      "outputs": [
        {
          "output_type": "stream",
          "name": "stdout",
          "text": [
            "1.0\n",
            "1.0\n",
            "1.0\n",
            "3.0\n"
          ]
        }
      ]
    },
    {
      "cell_type": "markdown",
      "source": [
        "### Displaying the images from train dataset"
      ],
      "metadata": {
        "id": "Sx3zbfCZViUL"
      }
    },
    {
      "cell_type": "code",
      "source": [
        "test_image_flair=nib.load(TRAIN_DATASET_PATH + 'BraTS20_Training_355/BraTS20_Training_355_flair.nii.gz').get_fdata()\n",
        "\n",
        "test_image_t1ce=nib.load(TRAIN_DATASET_PATH + 'BraTS20_Training_355/BraTS20_Training_355_t1ce.nii.gz').get_fdata()\n",
        "\n",
        "test_image_t2=nib.load(TRAIN_DATASET_PATH + 'BraTS20_Training_355/BraTS20_Training_355_t2.nii.gz').get_fdata()\n",
        "\n",
        "test_mask=nib.load(TRAIN_DATASET_PATH + 'BraTS20_Training_355/BraTS20_Training_355_seg.nii.gz').get_fdata()\n",
        "\n",
        "n_slice=random.randint(0, test_mask.shape[2])\n",
        "\n",
        "plt.figure(figsize=(8, 8))\n",
        "\n",
        "plt.subplot(231)\n",
        "plt.imshow(test_image_flair[:,:,n_slice], cmap='gray')\n",
        "plt.title('Image flair')\n",
        "\n",
        "plt.subplot(233)\n",
        "plt.imshow(test_image_t1ce[:,:,n_slice], cmap='gray')\n",
        "plt.title('Image t1ce')\n",
        "\n",
        "plt.subplot(234)\n",
        "plt.imshow(test_image_t2[:,:,n_slice], cmap='gray')\n",
        "plt.title('Image t2')\n",
        "\n",
        "plt.subplot(235)\n",
        "plt.imshow(test_mask[:,:,n_slice])\n",
        "plt.title('Mask/Seg')\n",
        "\n",
        "plt.show()"
      ],
      "metadata": {
        "id": "G6tnihSr2uNW",
        "colab": {
          "base_uri": "https://localhost:8080/",
          "height": 601
        },
        "outputId": "9e17edfc-0436-4077-a7ae-bb2779977e95"
      },
      "execution_count": 19,
      "outputs": [
        {
          "output_type": "display_data",
          "data": {
            "text/plain": [
              "<Figure size 800x800 with 4 Axes>"
            ],
            "image/png": "[encoded data removed]"
          },
          "metadata": {}
        }
      ]
    },
    {
      "cell_type": "markdown",
      "source": [
        "## **PART 2:**\n",
        "Explore the process of combining images to channels and divide them to patches.\n",
        "\n",
        "Combining all 4 images to 4 channels of a numpy array.\n",
        "Flair, T1CE, annd T2 have the most information\n",
        "\n"
      ],
      "metadata": {
        "id": "L1AgmxNrsTw7"
      }
    },
    {
      "cell_type": "markdown",
      "source": [
        "### Combining + Cropping + Saving"
      ],
      "metadata": {
        "id": "pMq7n1xdvkUy"
      }
    },
    {
      "cell_type": "markdown",
      "source": [
        "Combine T1CE, T2, FLAIR into one file and save as npy format and also save the SEGMENTED file into npy format. Save the combined images in images folder and segmented images in masks folder"
      ],
      "metadata": {
        "id": "ocb4e8zD9BsP"
      }
    },
    {
      "cell_type": "code",
      "source": [
        "# Base directory for training data\n",
        "TRAIN_DATA_DIR = TRAIN_DATASET_PATH\n",
        "\n",
        "# New directories for saving processed images and masks\n",
        "PROCESSED_IMAGE_DIR = os.path.join('BraTS-2020', 'images')\n",
        "PROCESSED_MASK_DIR = os.path.join('BraTS-2020', 'masks')\n",
        "\n",
        "# Create directories if they do not exist\n",
        "os.makedirs(PROCESSED_IMAGE_DIR, exist_ok=True)\n",
        "os.makedirs(PROCESSED_MASK_DIR, exist_ok=True)\n",
        "\n",
        "# List of patient folder names\n",
        "patient_folders = [f for f in os.listdir(TRAIN_DATA_DIR) if os.path.isdir(os.path.join(TRAIN_DATA_DIR, f))]\n",
        "\n",
        "# Loop through each patient folder\n",
        "for patient_folder in patient_folders:\n",
        "    patient_path = os.path.join(TRAIN_DATA_DIR, patient_folder)\n",
        "\n",
        "    # Load the modalities\n",
        "    image_flair = nib.load(os.path.join(patient_path, patient_folder + '_flair.nii.gz')).get_fdata()\n",
        "    image_t1ce = nib.load(os.path.join(patient_path, patient_folder + '_t1ce.nii.gz')).get_fdata()\n",
        "    image_t2 = nib.load(os.path.join(patient_path, patient_folder + '_t2.nii.gz')).get_fdata()\n",
        "\n",
        "    # Load the mask\n",
        "    mask = nib.load(os.path.join(patient_path, patient_folder + '_seg.nii.gz')).get_fdata()\n",
        "\n",
        "    # Combine the images into a single array\n",
        "    combined_images = np.stack([image_flair, image_t1ce, image_t2], axis=3)\n",
        "\n",
        "    # Crop the images and mask\n",
        "    combined_images = combined_images[56:184, 56:184, 13:141]\n",
        "    mask = mask[56:184, 56:184, 13:141]\n",
        "\n",
        "    # Check if the mask has at least 1% non-zero labels\n",
        "    val, counts = np.unique(mask, return_counts=True)\n",
        "    if (1 - (counts[0]/counts.sum())) > 0.01:\n",
        "        mask = to_categorical(mask, num_classes=4)\n",
        "\n",
        "        # Save the combined images and mask with new names in the respective directories\n",
        "        combined_image_path = os.path.join(PROCESSED_IMAGE_DIR, patient_folder + '.npy')\n",
        "        mask_path = os.path.join(PROCESSED_MASK_DIR, patient_folder + '_seg.npy')\n",
        "        np.save(combined_image_path, combined_images)\n",
        "        np.save(mask_path, mask)\n",
        "\n",
        "    else:\n",
        "        print(f\"Patient {patient_folder} data is not useful\")\n",
        "\n",
        "# Delete the TRAIN_DATA_DIR after processing all patient folders\n",
        "# Path to the folder you want to delete\n",
        "folder_path = '/content/brats20-dataset-training-validation'\n",
        "\n",
        "# Use try-except block to handle potential errors\n",
        "try:\n",
        "    # Remove the entire directory tree\n",
        "    shutil.rmtree(folder_path)\n",
        "    print(f\"The folder '{folder_path}' has been deleted successfully.\")\n",
        "except Exception as e:\n",
        "    print(f\"An error occurred: {e}\")"
      ],
      "metadata": {
        "colab": {
          "base_uri": "https://localhost:8080/"
        },
        "id": "oqhT7YbMqZVO",
        "outputId": "6712f0da-a829-4b44-e258-4bc59ebe1ffb"
      },
      "execution_count": 20,
      "outputs": [
        {
          "output_type": "stream",
          "name": "stdout",
          "text": [
            "Patient BraTS20_Training_044 data is not useful\n",
            "Patient BraTS20_Training_139 data is not useful\n",
            "Patient BraTS20_Training_325 data is not useful\n",
            "Patient BraTS20_Training_063 data is not useful\n",
            "Patient BraTS20_Training_099 data is not useful\n",
            "Patient BraTS20_Training_122 data is not useful\n",
            "Patient BraTS20_Training_036 data is not useful\n",
            "Patient BraTS20_Training_028 data is not useful\n",
            "Patient BraTS20_Training_177 data is not useful\n",
            "Patient BraTS20_Training_061 data is not useful\n",
            "Patient BraTS20_Training_204 data is not useful\n",
            "Patient BraTS20_Training_108 data is not useful\n",
            "Patient BraTS20_Training_341 data is not useful\n",
            "Patient BraTS20_Training_314 data is not useful\n",
            "Patient BraTS20_Training_268 data is not useful\n",
            "Patient BraTS20_Training_086 data is not useful\n",
            "Patient BraTS20_Training_142 data is not useful\n",
            "Patient BraTS20_Training_233 data is not useful\n",
            "Patient BraTS20_Training_082 data is not useful\n",
            "Patient BraTS20_Training_217 data is not useful\n",
            "Patient BraTS20_Training_110 data is not useful\n",
            "Patient BraTS20_Training_005 data is not useful\n",
            "Patient BraTS20_Training_317 data is not useful\n",
            "Patient BraTS20_Training_079 data is not useful\n",
            "Patient BraTS20_Training_277 data is not useful\n"
          ]
        }
      ]
    },
    {
      "cell_type": "markdown",
      "source": [
        "## **PART - 3:**\n",
        "### Split train dataset into train and validation folder using **splitfolder** library"
      ],
      "metadata": {
        "id": "5oBuW7yi3Fsm"
      }
    },
    {
      "cell_type": "code",
      "source": [
        "# Define the input and output paths\n",
        "input_folder = '/content/BraTS-2020'\n",
        "output_folder = '/content/BraTS-2020'\n",
        "\n",
        "# Split the dataset into training and validation sets with a ratio of 80:20\n",
        "# and move the files to the respective folders\n",
        "splitfolders.ratio(input_folder, output=output_folder, seed=1337, ratio=(.8, .2), move=True)\n",
        "\n",
        "# Remove the original images and masks folders after moving the files\n",
        "os.rmdir(os.path.join(input_folder, 'images'))\n",
        "os.rmdir(os.path.join(input_folder, 'masks'))\n",
        "\n",
        "print('Dataset successfully split and original folders removed.')\n"
      ],
      "metadata": {
        "colab": {
          "base_uri": "https://localhost:8080/"
        },
        "id": "R5N2qzow3hxj",
        "outputId": "189bc1b7-a2ae-4be6-a469-173c761e52b0"
      },
      "execution_count": 22,
      "outputs": [
        {
          "output_type": "stream",
          "name": "stderr",
          "text": [
            "Copying files: 688 files [00:00, 6158.85 files/s]"
          ]
        },
        {
          "output_type": "stream",
          "name": "stdout",
          "text": [
            "Dataset successfully split into training and validation sets.\n"
          ]
        },
        {
          "output_type": "stream",
          "name": "stderr",
          "text": [
            "\n"
          ]
        }
      ]
    },
    {
      "cell_type": "code",
      "source": [],
      "metadata": {
        "id": "LKopNr4mGTQa"
      },
      "execution_count": null,
      "outputs": []
    }
  ]
}